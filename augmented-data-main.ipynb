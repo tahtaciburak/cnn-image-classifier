{
 "cells": [
  {
   "cell_type": "code",
   "execution_count": 1,
   "metadata": {},
   "outputs": [
    {
     "name": "stderr",
     "output_type": "stream",
     "text": [
      "/Users/buraktahtaci/anaconda/lib/python3.6/site-packages/h5py/__init__.py:34: FutureWarning: Conversion of the second argument of issubdtype from `float` to `np.floating` is deprecated. In future, it will be treated as `np.float64 == np.dtype(float).type`.\n",
      "  from ._conv import register_converters as _register_converters\n",
      "Using TensorFlow backend.\n"
     ]
    }
   ],
   "source": [
    "import keras\n",
    "from keras.models import Sequential\n",
    "from keras.layers import Dense, Dropout, Flatten, Activation\n",
    "from keras.layers import Conv2D, MaxPooling2D\n",
    "from keras.layers. normalization import BatchNormalization"
   ]
  },
  {
   "cell_type": "code",
   "execution_count": 2,
   "metadata": {
    "collapsed": true
   },
   "outputs": [],
   "source": [
    "import os\n",
    "import numpy as np\n",
    "from PIL import Image\n",
    "import random\n",
    "import matplotlib.pyplot as plt\n",
    "%matplotlib inline  \n"
   ]
  },
  {
   "cell_type": "code",
   "execution_count": 3,
   "metadata": {
    "collapsed": true
   },
   "outputs": [],
   "source": [
    "def one_hot_labeling(class_name):\n",
    "    if class_name == \"headphone\":\n",
    "        return(np.array([1,0,0,0,0,0,0,0,0,0]))\n",
    "    elif class_name == \"butterfly\":\n",
    "        return(np.array([0,1,0,0,0,0,0,0,0,0]))\n",
    "    elif class_name == \"cup\":\n",
    "        return(np.array([0,0,1,0,0,0,0,0,0,0]))\n",
    "    elif class_name == \"airplanes\":\n",
    "        return(np.array([0,0,0,1,0,0,0,0,0,0]))\n",
    "    elif class_name == \"dolphin\":\n",
    "        return(np.array([0,0,0,0,1,0,0,0,0,0]))\n",
    "    elif class_name == \"cellphone\":\n",
    "        return(np.array([0,0,0,0,0,1,0,0,0,0]))\n",
    "    elif class_name == \"car_side\":\n",
    "        return(np.array([0,0,0,0,0,0,1,0,0,0]))\n",
    "    elif class_name == \"laptop\":\n",
    "        return(np.array([0,0,0,0,0,0,0,1,0,0]))\n",
    "    elif class_name == \"pizza\":\n",
    "        return(np.array([0,0,0,0,0,0,0,0,1,0]))\n",
    "    elif class_name == \"Motorbikes\":\n",
    "        return(np.array([0,0,0,0,0,0,0,0,0,1]))"
   ]
  },
  {
   "cell_type": "code",
   "execution_count": 4,
   "metadata": {
    "collapsed": true
   },
   "outputs": [],
   "source": [
    "def id_to_label(c_id):\n",
    "    if c_id == 0:\n",
    "        return \"headphone\"\n",
    "    elif c_id == 1:\n",
    "        return \"butterfly\"\n",
    "    elif c_id == 2:\n",
    "        return \"cup\"\n",
    "    elif c_id == 3:\n",
    "        return \"airplane\"\n",
    "    elif c_id == 4:\n",
    "        return \"dolphin\"\n",
    "    elif c_id == 5:\n",
    "        return \"cell_phone\"\n",
    "    elif c_id == 6:\n",
    "        return \"car_side\"\n",
    "    elif c_id == 7:\n",
    "        return \"laptop\"\n",
    "    elif c_id == 8:\n",
    "        return \"pizza\"\n",
    "    elif c_id == 9:\n",
    "        return \"Motorbikes\""
   ]
  },
  {
   "cell_type": "code",
   "execution_count": 7,
   "metadata": {
    "collapsed": true
   },
   "outputs": [],
   "source": [
    "def read_dataset(path):\n",
    "    IMG_SIZE = 200\n",
    "    classes = os.listdir(path)\n",
    "    classes.remove('.DS_Store')\n",
    "    dataset = []\n",
    "    \n",
    "    for cls in classes:\n",
    "        images = os.listdir(path+\"/\"+cls)\n",
    "        for img in images:\n",
    "            image = Image.open(path+\"/\"+\"/\"+cls+\"/\"+img)\n",
    "            image = image.convert('L')\n",
    "            image = image.resize((IMG_SIZE, IMG_SIZE), Image.ANTIALIAS)\n",
    "            \n",
    "            dataset.append([np.array(image),one_hot_labeling(cls)])\n",
    "            \n",
    "            image = Image.open(path+\"/\"+\"/\"+cls+\"/\"+img)\n",
    "            image = image.convert('L')\n",
    "            image = image.rotate(90)\n",
    "            image = image.resize((IMG_SIZE, IMG_SIZE), Image.ANTIALIAS)\n",
    "            \n",
    "            dataset.append([np.array(image),one_hot_labeling(cls)])\n",
    "            \n",
    "            image = Image.open(path+\"/\"+\"/\"+cls+\"/\"+img)\n",
    "            image = image.convert('L')\n",
    "            image = image.rotate(270)\n",
    "            image = image.resize((IMG_SIZE, IMG_SIZE), Image.ANTIALIAS)\n",
    "            \n",
    "            dataset.append([np.array(image),one_hot_labeling(cls)])\n",
    "\n",
    "    random.shuffle(dataset)\n",
    "    return dataset\n"
   ]
  },
  {
   "cell_type": "code",
   "execution_count": 8,
   "metadata": {
    "collapsed": true
   },
   "outputs": [],
   "source": [
    "dataset = read_dataset('Dataset')"
   ]
  },
  {
   "cell_type": "code",
   "execution_count": 9,
   "metadata": {},
   "outputs": [
    {
     "name": "stdout",
     "output_type": "stream",
     "text": [
      "5206\n",
      "1301\n"
     ]
    }
   ],
   "source": [
    "train_dataset = dataset[int(len(dataset)/5):]\n",
    "test_dataset = dataset[:int(len(dataset)/5)]\n",
    "\n",
    "print(len(train_dataset))\n",
    "print(len(test_dataset))\n",
    "#plt.imshow(test_dataset[13][0], cmap = 'gist_gray')\n"
   ]
  },
  {
   "cell_type": "code",
   "execution_count": 10,
   "metadata": {
    "collapsed": true
   },
   "outputs": [],
   "source": [
    "IMG_SIZE = 200\n",
    "trainImages = np.array([i[0] for i in train_dataset]).reshape(-1, IMG_SIZE, IMG_SIZE, 1)\n",
    "trainLabels = np.array([i[1] for i in train_dataset])\n"
   ]
  },
  {
   "cell_type": "code",
   "execution_count": 11,
   "metadata": {
    "collapsed": true
   },
   "outputs": [],
   "source": [
    "IMG_SIZE = 200\n",
    "testImages = np.array([i[0] for i in test_dataset]).reshape(-1, IMG_SIZE, IMG_SIZE, 1)\n",
    "testLabels = np.array([i[1] for i in test_dataset])\n",
    "\n"
   ]
  },
  {
   "cell_type": "code",
   "execution_count": 12,
   "metadata": {
    "collapsed": true
   },
   "outputs": [],
   "source": [
    "model = Sequential()\n",
    "model.add(Conv2D(32, kernel_size = (3, 3), activation='relu', input_shape=(200, 200, 1)))\n",
    "model.add(MaxPooling2D(pool_size=(2,2)))\n",
    "model.add(BatchNormalization())\n",
    "model.add(Conv2D(64, kernel_size=(3,3), activation='relu'))\n",
    "model.add(MaxPooling2D(pool_size=(2,2)))\n",
    "model.add(BatchNormalization())\n",
    "model.add(Conv2D(96, kernel_size=(3,3), activation='relu'))\n",
    "model.add(MaxPooling2D(pool_size=(2,2)))\n",
    "model.add(BatchNormalization())\n",
    "model.add(Conv2D(96, kernel_size=(3,3), activation='relu'))\n",
    "model.add(MaxPooling2D(pool_size=(2,2)))\n",
    "model.add(BatchNormalization())\n",
    "model.add(Conv2D(64, kernel_size=(3,3), activation='relu'))\n",
    "model.add(MaxPooling2D(pool_size=(2,2)))\n",
    "model.add(BatchNormalization())\n",
    "model.add(Dropout(0.2))\n",
    "model.add(Flatten())\n",
    "model.add(Dense(256, activation='relu'))\n",
    "model.add(Dropout(0.2))\n",
    "model.add(Dense(128, activation='relu'))\n",
    "#model.add(Dropout(0.3))\n",
    "model.add(Dense(10, activation = 'softmax'))\n"
   ]
  },
  {
   "cell_type": "code",
   "execution_count": 13,
   "metadata": {
    "collapsed": true
   },
   "outputs": [],
   "source": [
    "model.compile(loss='binary_crossentropy', optimizer='adam', metrics = ['accuracy'])\n"
   ]
  },
  {
   "cell_type": "code",
   "execution_count": 14,
   "metadata": {},
   "outputs": [
    {
     "name": "stdout",
     "output_type": "stream",
     "text": [
      "Epoch 1/2\n",
      "5206/5206 [==============================] - 405s 78ms/step - loss: 0.1098 - acc: 0.9643\n",
      "Epoch 2/2\n",
      "5206/5206 [==============================] - 398s 76ms/step - loss: 0.0650 - acc: 0.9768\n"
     ]
    },
    {
     "data": {
      "text/plain": [
       "<keras.callbacks.History at 0x12f0cc550>"
      ]
     },
     "execution_count": 14,
     "metadata": {},
     "output_type": "execute_result"
    }
   ],
   "source": [
    "model.fit(trainImages,trainLabels, batch_size = 50, epochs = 2, verbose = 1)"
   ]
  },
  {
   "cell_type": "code",
   "execution_count": 12,
   "metadata": {},
   "outputs": [
    {
     "name": "stdout",
     "output_type": "stream",
     "text": [
      "867/867 [==============================] - 19s 21ms/step\n",
      "Test accuracy: 0.977277976625106\n"
     ]
    }
   ],
   "source": [
    "test_loss, test_acc = model.evaluate(testImages, testLabels)\n",
    "\n",
    "print('Test accuracy:', test_acc)"
   ]
  },
  {
   "cell_type": "code",
   "execution_count": 16,
   "metadata": {
    "collapsed": true
   },
   "outputs": [],
   "source": [
    "predictions = model.predict(testImages)"
   ]
  },
  {
   "cell_type": "code",
   "execution_count": 24,
   "metadata": {},
   "outputs": [
    {
     "data": {
      "image/png": "[encoded data removed]",
      "text/plain": [
       "<matplotlib.figure.Figure at 0x147f09160>"
      ]
     },
     "metadata": {},
     "output_type": "display_data"
    }
   ],
   "source": [
    "for i in range(len(predictions)):\n",
    "    if np.argmax(predictions[i]) != np.argmax(testLabels[i]):\n",
    "        plt.imshow(test_dataset[i][0], cmap = 'gist_gray')\n"
   ]
  },
  {
   "cell_type": "code",
   "execution_count": 16,
   "metadata": {
    "collapsed": true
   },
   "outputs": [],
   "source": [
    "IMG_SIZE = 200\n",
    "def test_one_image(path):\n",
    "    image = Image.open(path)\n",
    "    image = image.convert('L')\n",
    "    image = image.resize((IMG_SIZE, IMG_SIZE), Image.ANTIALIAS)\n",
    "    predictions = model.predict(np.array(image).reshape(-1, IMG_SIZE, IMG_SIZE, 1))\n",
    "    return id_to_label(np.argmax(predictions))"
   ]
  },
  {
   "cell_type": "code",
   "execution_count": 17,
   "metadata": {},
   "outputs": [
    {
     "name": "stdout",
     "output_type": "stream",
     "text": [
      "File ->  motosiklet4.jpeg  Prediction -> Motorbikes\n",
      "File ->  pizza2.jpeg  Prediction -> Motorbikes\n",
      "File ->  headphone3.jpeg  Prediction -> laptop\n",
      "File ->  ucak4.jpeg  Prediction -> airplane\n",
      "File ->  laptop4.jpeg  Prediction -> Motorbikes\n",
      "File ->  ucak5.jpeg  Prediction -> Motorbikes\n",
      "File ->  laptop5.jpeg  Prediction -> Motorbikes\n",
      "File ->  pizza.jpeg  Prediction -> Motorbikes\n",
      "File ->  cup.jpeg  Prediction -> laptop\n",
      "File ->  headphone2.jpeg  Prediction -> Motorbikes\n",
      "File ->  pizza3.jpeg  Prediction -> butterfly\n",
      "File ->  motosiklet5.jpeg  Prediction -> Motorbikes\n",
      "File ->  dolphin.jpeg  Prediction -> Motorbikes\n",
      "File ->  ucak2.jpeg  Prediction -> airplane\n",
      "File ->  laptop2.jpeg  Prediction -> Motorbikes\n",
      "File ->  motosiklet2.jpeg  Prediction -> Motorbikes\n",
      "File ->  headphone.jpeg  Prediction -> headphone\n",
      "File ->  cell.jpeg  Prediction -> Motorbikes\n",
      "File ->  pizza4.jpeg  Prediction -> Motorbikes\n",
      "File ->  car.jpeg  Prediction -> Motorbikes\n",
      "File ->  headphone5.jpeg  Prediction -> laptop\n",
      "File ->  kelebek.jpeg  Prediction -> Motorbikes\n",
      "File ->  headphone4.jpeg  Prediction -> cup\n",
      "File ->  pizza5.jpeg  Prediction -> Motorbikes\n",
      "File ->  ucak3.jpeg  Prediction -> Motorbikes\n",
      "File ->  laptop3.jpeg  Prediction -> Motorbikes\n",
      "File ->  kelebek4.jpeg  Prediction -> Motorbikes\n",
      "File ->  dolphin5.jpeg  Prediction -> laptop\n",
      "File ->  cup5.jpeg  Prediction -> cup\n",
      "File ->  cell2.jpeg  Prediction -> laptop\n",
      "File ->  laptop.jpeg  Prediction -> laptop\n",
      "File ->  car5.jpeg  Prediction -> Motorbikes\n",
      "File ->  ucak.jpeg  Prediction -> Motorbikes\n",
      "File ->  motosiklet1.jpeg  Prediction -> Motorbikes\n",
      "File ->  car4.jpeg  Prediction -> Motorbikes\n",
      "File ->  cell3.jpeg  Prediction -> Motorbikes\n",
      "File ->  cup4.jpeg  Prediction -> Motorbikes\n",
      "File ->  dolphin4.jpeg  Prediction -> pizza\n",
      "File ->  kelebek5.jpeg  Prediction -> Motorbikes\n",
      "File ->  cell4.jpeg  Prediction -> Motorbikes\n",
      "File ->  car3.jpeg  Prediction -> laptop\n",
      "File ->  kelebek2.jpeg  Prediction -> butterfly\n",
      "File ->  dolphin3.jpeg  Prediction -> dolphin\n",
      "File ->  cup3.jpeg  Prediction -> cup\n",
      "File ->  cup2.jpeg  Prediction -> cup\n",
      "File ->  dolphin2.jpeg  Prediction -> Motorbikes\n",
      "File ->  kelebek3.jpeg  Prediction -> Motorbikes\n",
      "File ->  motosiklet3.jpg  Prediction -> Motorbikes\n",
      "File ->  car2.jpeg  Prediction -> Motorbikes\n",
      "File ->  cell5.jpeg  Prediction -> Motorbikes\n"
     ]
    }
   ],
   "source": [
    "for f in os.listdir(\"validasyon\"):\n",
    "    if f != \".DS_Store\":\n",
    "        print(\"File -> \",f,\" Prediction ->\",test_one_image(\"validasyon/\"+f))"
   ]
  },
  {
   "cell_type": "code",
   "execution_count": null,
   "metadata": {
    "collapsed": true
   },
   "outputs": [],
   "source": []
  }
 ],
 "metadata": {
  "kernelspec": {
   "display_name": "Python 3",
   "language": "python",
   "name": "python3"
  },
  "language_info": {
   "codemirror_mode": {
    "name": "ipython",
    "version": 3
   },
   "file_extension": ".py",
   "mimetype": "text/x-python",
   "name": "python",
   "nbconvert_exporter": "python",
   "pygments_lexer": "ipython3",
   "version": "3.6.3"
  }
 },
 "nbformat": 4,
 "nbformat_minor": 2
}
